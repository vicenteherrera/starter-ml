{
 "cells": [
  {
   "cell_type": "markdown",
   "id": "52b3bfa4-6c56-4150-992c-4f456aeb5de1",
   "metadata": {},
   "source": [
    "## Import API keys"
   ]
  },
  {
   "cell_type": "code",
   "execution_count": 1,
   "id": "30f49ba7-917a-446a-8879-e00649135c87",
   "metadata": {},
   "outputs": [],
   "source": [
    "import os\n",
    "from dotenv import load_dotenv\n",
    "if os.path.exists('./env.txt'):\n",
    "  load_dotenv('./env.txt')"
   ]
  },
  {
   "cell_type": "markdown",
   "id": "9a4ddf9e-c5a3-4767-ad30-0db48e1d4d30",
   "metadata": {},
   "source": [
    "## Download models locally"
   ]
  },
  {
   "cell_type": "markdown",
   "id": "33e99354-fa95-417c-a448-463c44854914",
   "metadata": {},
   "source": [
    "Import Python libraries. This will trigger downloading the models to the current virtual environment, which will be very heavy."
   ]
  },
  {
   "cell_type": "code",
   "execution_count": null,
   "id": "32aaf3e5-05cc-4809-83b4-dc5989f6d26b",
   "metadata": {},
   "outputs": [],
   "source": [
    "# Load model directly\n",
    "from transformers import AutoTokenizer, AutoModelForCausalLM\n",
    "tokenizer = AutoTokenizer.from_pretrained(\"codellama/CodeLlama-7b-Instruct-hf\")\n",
    "model = AutoModelForCausalLM.from_pretrained(\"codellama/CodeLlama-7b-Instruct-hf\")"
   ]
  },
  {
   "cell_type": "code",
   "execution_count": null,
   "id": "623fa714-63c7-413a-b9dd-07c491b471a7",
   "metadata": {},
   "outputs": [],
   "source": [
    "import outlines.text.generate as generate\n",
    "import outlines.models as models"
   ]
  },
  {
   "cell_type": "code",
   "execution_count": null,
   "id": "c7e5b6da-4860-46bc-af80-20b28405367b",
   "metadata": {},
   "outputs": [],
   "source": [
    "answer = generate.continuation(model, stop=[\".\"])(\"Tell me a one-sentence joke.\")\n",
    "answer"
   ]
  },
  {
   "cell_type": "code",
   "execution_count": null,
   "id": "65b06c00-d7db-45cd-b95f-f37d9f105ee1",
   "metadata": {},
   "outputs": [],
   "source": []
  },
  {
   "cell_type": "code",
   "execution_count": 1,
   "id": "76dfcacf-478e-4b09-ad78-f820b0ee62a1",
   "metadata": {},
   "outputs": [],
   "source": [
    "prompt = \"\"\"\\\n",
    "Por favor, describe el sentimiento de la siguiente frase como positivo, neutral o negativo:\n",
    "    \n",
    "Hoy estoy muy feliz!\n",
    "    \n",
    "El sentimento de la frase es: \n",
    "\"\"\"\n",
    "answer = generate.choice(model, [\"Positivo\", \"Negativo\", \"Neutral\"])\n",
    "answer(prompt)"
   ]
  },
  {
   "cell_type": "code",
   "execution_count": 3,
   "id": "d091317d-345d-4bac-b52e-51ca94236d00",
   "metadata": {},
   "outputs": [
    {
     "ename": "NameError",
     "evalue": "name 'generate' is not defined",
     "output_type": "error",
     "traceback": [
      "\u001b[0;31m---------------------------------------------------------------------------\u001b[0m",
      "\u001b[0;31mNameError\u001b[0m                                 Traceback (most recent call last)",
      "Cell \u001b[0;32mIn[3], line 2\u001b[0m\n\u001b[1;32m      1\u001b[0m prompt \u001b[38;5;241m=\u001b[39m \u001b[38;5;124m\"\u001b[39m\u001b[38;5;124m1+1=\u001b[39m\u001b[38;5;124m\"\u001b[39m\n\u001b[0;32m----> 2\u001b[0m answer \u001b[38;5;241m=\u001b[39m \u001b[43mgenerate\u001b[49m\u001b[38;5;241m.\u001b[39minteger(model)(prompt)\n\u001b[1;32m      3\u001b[0m answer\n",
      "\u001b[0;31mNameError\u001b[0m: name 'generate' is not defined"
     ]
    }
   ],
   "source": [
    "prompt = \"1+1=\"\n",
    "answer = generate.integer(model)(prompt)\n",
    "answer"
   ]
  },
  {
   "cell_type": "code",
   "execution_count": null,
   "id": "4b790abf-90de-4f84-a4b3-bb8655371bfa",
   "metadata": {},
   "outputs": [],
   "source": [
    "prompt = \"sqrt(2)=\"\n",
    "answer = generate.float(model)(prompt)\n",
    "answer"
   ]
  }
 ],
 "metadata": {
  "kernelspec": {
   "display_name": "Python 3 (ipykernel)",
   "language": "python",
   "name": "python3"
  },
  "language_info": {
   "codemirror_mode": {
    "name": "ipython",
    "version": 3
   },
   "file_extension": ".py",
   "mimetype": "text/x-python",
   "name": "python",
   "nbconvert_exporter": "python",
   "pygments_lexer": "ipython3",
   "version": "3.11.2"
  }
 },
 "nbformat": 4,
 "nbformat_minor": 5
}
