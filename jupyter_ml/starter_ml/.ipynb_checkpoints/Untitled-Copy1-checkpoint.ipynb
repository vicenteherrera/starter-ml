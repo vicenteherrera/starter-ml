{
 "cells": [
  {
   "cell_type": "code",
   "execution_count": null,
   "id": "8ebd0c71-66da-43d0-b41b-f57b7e46e9b5",
   "metadata": {},
   "outputs": [],
   "source": [
    "## Import API keys"
   ]
  },
  {
   "cell_type": "code",
   "execution_count": 1,
   "id": "30f49ba7-917a-446a-8879-e00649135c87",
   "metadata": {},
   "outputs": [],
   "source": [
    "import os\n",
    "from dotenv import load_dotenv\n",
    "if os.path.exists('./env.txt'):\n",
    "  load_dotenv('./env.txt')"
   ]
  },
  {
   "cell_type": "code",
   "execution_count": null,
   "id": "e299d17b-a5b0-469f-8100-16adfd96fc99",
   "metadata": {},
   "outputs": [],
   "source": [
    "## Download models locally"
   ]
  },
  {
   "cell_type": "markdown",
   "id": "33e99354-fa95-417c-a448-463c44854914",
   "metadata": {},
   "source": [
    "Import Python libraries. This will trigger downloading the models to the current virtual environment, which will be very heavy."
   ]
  },
  {
   "cell_type": "code",
   "execution_count": null,
   "id": "32aaf3e5-05cc-4809-83b4-dc5989f6d26b",
   "metadata": {},
   "outputs": [],
   "source": [
    "# Load model directly\n",
    "from transformers import AutoTokenizer, AutoModelForCausalLM\n",
    "tokenizer = AutoTokenizer.from_pretrained(\"codellama/CodeLlama-7b-Instruct-hf\")\n",
    "model = AutoModelForCausalLM.from_pretrained(\"codellama/CodeLlama-7b-Instruct-hf\")"
   ]
  },
  {
   "cell_type": "code",
   "execution_count": null,
   "id": "263a94d5-c419-4eda-9183-2acf38b2210e",
   "metadata": {},
   "outputs": [],
   "source": [
    "# Load model directly\n",
    "tokenizer = AutoTokenizer.from_pretrained(\"Trelis/Llama-2-7b-chat-hf-function-calling\")\n",
    "model = AutoModelForCausalLM.from_pretrained(\"Trelis/Llama-2-7b-chat-hf-function-calling\")"
   ]
  }
 ],
 "metadata": {
  "kernelspec": {
   "display_name": "Python 3 (ipykernel)",
   "language": "python",
   "name": "python3"
  },
  "language_info": {
   "codemirror_mode": {
    "name": "ipython",
    "version": 3
   },
   "file_extension": ".py",
   "mimetype": "text/x-python",
   "name": "python",
   "nbconvert_exporter": "python",
   "pygments_lexer": "ipython3",
   "version": "3.11.2"
  }
 },
 "nbformat": 4,
 "nbformat_minor": 5
}
